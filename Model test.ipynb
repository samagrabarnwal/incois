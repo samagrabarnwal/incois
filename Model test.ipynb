{
 "cells": [
  {
   "cell_type": "code",
   "execution_count": 1,
   "id": "0cf509ec",
   "metadata": {},
   "outputs": [
    {
     "name": "stderr",
     "output_type": "stream",
     "text": [
      "2024-02-04 20:45:19.273470: I tensorflow/core/platform/cpu_feature_guard.cc:182] This TensorFlow binary is optimized to use available CPU instructions in performance-critical operations.\n",
      "To enable the following instructions: AVX2 FMA, in other operations, rebuild TensorFlow with the appropriate compiler flags.\n"
     ]
    }
   ],
   "source": [
    "import tensorflow as tf\n",
    "from tensorflow.keras import layers, models\n",
    "import matplotlib.pyplot as plt"
   ]
  },
  {
   "cell_type": "code",
   "execution_count": 14,
   "id": "491492cc",
   "metadata": {},
   "outputs": [],
   "source": [
    "import os\n",
    "import cv2\n",
    "import numpy as np\n",
    "\n",
    "# Function to extract temperature from an RGB color\n",
    "def extract_temperature_from_color(color):\n",
    "    # This is a simplified example, you would need to create a mapping based on your color scale\n",
    "    # Example: linear mapping between RGB values and temperature (adjust based on your scale)\n",
    "    temperature = 10.0 * color[0] + 20.0 * color[1] + 30.0 * color[2]\n",
    "    return temperature\n",
    "\n",
    "# Function to load and preprocess data\n",
    "def load_and_preprocess_data(folder_path, image_size, roi_coordinates):\n",
    "    # Initialize empty lists to store images and labels\n",
    "    images = []\n",
    "    labels = []\n",
    "\n",
    "    # Iterate through the files in the folder\n",
    "    for filename in os.listdir(folder_path):\n",
    "        if filename.endswith(\".jpg\"):  # Assuming images are in JPG format\n",
    "            file_path = os.path.join(folder_path, filename)\n",
    "\n",
    "            # Read and resize the image\n",
    "            img = cv2.imread(file_path)\n",
    "            img = cv2.resize(img, (image_size, image_size))\n",
    "\n",
    "            # Extract temperature values from the color-coded ROI\n",
    "            roi = img[roi_coordinates[0]:roi_coordinates[1], roi_coordinates[2]:roi_coordinates[3]]\n",
    "            temperatures = np.zeros_like(roi, dtype=float)\n",
    "            for i in range(roi.shape[0]):\n",
    "                for j in range(roi.shape[1]):\n",
    "                    temperatures[i, j] = extract_temperature_from_color(roi[i, j])\n",
    "\n",
    "            # Append the image and average temperature to the lists\n",
    "            images.append(img)\n",
    "            # Use the average temperature of the ROI as the label\n",
    "            average_temperature = np.mean(temperatures)\n",
    "            labels.append(average_temperature)\n",
    "\n",
    "    # Convert lists to NumPy arrays\n",
    "    images = np.array(images)\n",
    "    labels = np.array(labels)\n",
    "\n",
    "    # Normalize image data to values between 0 and 1\n",
    "    images = images / 255.0\n",
    "\n",
    "    return images, labels\n",
    "\n",
    "# Set the path to your folder containing images\n",
    "folder_path = \"/Users/samagra/INCOIS/SST SAT Images\"\n",
    "\n",
    "# Set the desired image size (adjust as needed based on your model architecture)\n",
    "image_size = 128\n",
    "\n",
    "# Set the coordinates of the ROI in the format (top_left_y, bottom_right_y, top_left_x, bottom_right_x)\n",
    "roi_coordinates = (26, 63, 15, 808)  # Adjust these coordinates based on the actual location of the color-coded region\n",
    "\n",
    "# Load and preprocess the data\n",
    "X, y = load_and_preprocess_data(folder_path, image_size, roi_coordinates)\n",
    "\n",
    "# Now, X contains the preprocessed images, and y contains the corresponding average temperature labels\n"
   ]
  },
  {
   "cell_type": "code",
   "execution_count": 15,
   "id": "5446ae23",
   "metadata": {},
   "outputs": [],
   "source": [
    "image_height = image_width = image_size\n",
    "num_channels = 3  # Assuming RGB images, adjust if your images have a different number of channels\n",
    "\n",
    "model = models.Sequential([\n",
    "    layers.Conv2D(32, (3, 3), activation='relu', input_shape=(image_height, image_width, num_channels)),\n",
    "    layers.MaxPooling2D((2, 2)),\n",
    "    layers.Conv2D(64, (3, 3), activation='relu'),\n",
    "    layers.MaxPooling2D((2, 2)),\n",
    "    layers.Flatten(),\n",
    "    layers.Dense(64, activation='relu'),\n",
    "    layers.Dense(1)  # Output layer for regression task\n",
    "])\n",
    "\n",
    "model.compile(optimizer='adam', loss='mean_squared_error')  # Adjust optimizer and loss function as needed"
   ]
  },
  {
   "cell_type": "code",
   "execution_count": 16,
   "id": "584c8afc",
   "metadata": {},
   "outputs": [
    {
     "name": "stdout",
     "output_type": "stream",
     "text": [
      "No valid samples remaining after filtering.\n"
     ]
    }
   ],
   "source": [
    "# Filter out data points with None temperatures\n",
    "valid_indices = np.where(y_train != None)\n",
    "\n",
    "if len(valid_indices[0]) > 0:\n",
    "    X_train_filtered = X_train[valid_indices]\n",
    "    y_train_filtered = y_train[valid_indices]\n",
    "\n",
    "    # Model training with reduced validation split\n",
    "    model.fit(X_train_filtered, y_train_filtered, epochs=10, validation_split=0.1)\n",
    "else:\n",
    "    print(\"No valid samples remaining after filtering.\")\n"
   ]
  },
  {
   "cell_type": "code",
   "execution_count": 17,
   "id": "332dbbbb",
   "metadata": {},
   "outputs": [
    {
     "name": "stdout",
     "output_type": "stream",
     "text": [
      "1/1 [==============================] - 1s 1s/step\n"
     ]
    }
   ],
   "source": [
    "# Load and preprocess your test data (replace with your data loading logic)\n",
    "# X_test, y_test = load_and_preprocess_test_data()\n",
    "\n",
    "# Normalize test image data\n",
    "X_test = X_test / 255.0\n",
    "\n",
    "# Make predictions\n",
    "predictions = model.predict(X_test)"
   ]
  },
  {
   "cell_type": "code",
   "execution_count": null,
   "id": "5957e4b7",
   "metadata": {},
   "outputs": [],
   "source": [
    "# Choose an example image and its corresponding prediction\n",
    "index = 0\n",
    "predicted_temperature = predictions[index][0]\n",
    "\n",
    "# Visualize the image\n",
    "plt.imshow(X_test[index])\n",
    "plt.title(f'Predicted Temperature: {predicted_temperature}')\n",
    "plt.colorbar()\n",
    "plt.show()"
   ]
  },
  {
   "cell_type": "code",
   "execution_count": null,
   "id": "90caa275",
   "metadata": {},
   "outputs": [],
   "source": []
  },
  {
   "cell_type": "code",
   "execution_count": null,
   "id": "76e66a55",
   "metadata": {},
   "outputs": [],
   "source": []
  }
 ],
 "metadata": {
  "kernelspec": {
   "display_name": "Python 3 (ipykernel)",
   "language": "python",
   "name": "python3"
  },
  "language_info": {
   "codemirror_mode": {
    "name": "ipython",
    "version": 3
   },
   "file_extension": ".py",
   "mimetype": "text/x-python",
   "name": "python",
   "nbconvert_exporter": "python",
   "pygments_lexer": "ipython3",
   "version": "3.10.10"
  }
 },
 "nbformat": 4,
 "nbformat_minor": 5
}
